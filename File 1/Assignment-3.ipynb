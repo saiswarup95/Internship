{
 "cells": [
  {
   "cell_type": "code",
   "execution_count": 1,
   "id": "b93193ae",
   "metadata": {},
   "outputs": [
    {
     "name": "stdout",
     "output_type": "stream",
     "text": [
      "Python Exercises: PHP exercises:\n"
     ]
    }
   ],
   "source": [
    "import re\n",
    "text = 'Python Exercises, PHP exercises.'\n",
    "print(re.sub(\"[,.]\", \":\", text))"
   ]
  },
  {
   "cell_type": "code",
   "execution_count": 2,
   "id": "189cdd95",
   "metadata": {},
   "outputs": [
    {
     "name": "stdout",
     "output_type": "stream",
     "text": [
      "['evel', 'eneral', 'amming', 'anguage', 'esign', 'emphasizes', 'eadability', 'ant', 'entation']\n"
     ]
    }
   ],
   "source": [
    "import re\n",
    "text = \"Python is a high-level, general-purpose programming language. Its design philosophy emphasizes code readability with the use of significant indentation.\"\n",
    "list = re.findall(\"[ae]\\w+\", text)\n",
    "print(list)"
   ]
  },
  {
   "cell_type": "code",
   "execution_count": 3,
   "id": "29471ef8",
   "metadata": {},
   "outputs": [
    {
     "name": "stdout",
     "output_type": "stream",
     "text": [
      "['Python', 'high', 'level', 'general', 'purpose', 'programming', 'language', 'design', 'philosophy', 'emphasizes', 'code', 'readability', 'with', 'significant', 'indentation']\n"
     ]
    }
   ],
   "source": [
    "import re\n",
    "def specific_char(string):\n",
    "    pattern = re.compile(r\"\\b\\w{4,}\\b\")\n",
    "    string = pattern.findall(string)\n",
    "    return string\n",
    "print(specific_char(\"Python is a high-level, general-purpose programming language. Its design philosophy emphasizes code readability with the use of significant indentation.\"))"
   ]
  },
  {
   "cell_type": "code",
   "execution_count": 4,
   "id": "138e3046",
   "metadata": {},
   "outputs": [
    {
     "name": "stdout",
     "output_type": "stream",
     "text": [
      "['high', 'level', 'Its', 'code', 'with', 'the', 'use']\n"
     ]
    }
   ],
   "source": [
    "import re\n",
    "def specific_characters(string):\n",
    "    pattern = re.compile(r\"\\b\\w{3,5}\\b\")\n",
    "    string = pattern.findall(string)\n",
    "    return string\n",
    "print(specific_characters(\"Python is a high-level, general-purpose programming language. Its design philosophy emphasizes code readability with the use of significant indentation.\"))"
   ]
  },
  {
   "cell_type": "code",
   "execution_count": 5,
   "id": "602cec10",
   "metadata": {},
   "outputs": [
    {
     "name": "stdout",
     "output_type": "stream",
     "text": [
      "example.com\n",
      "hr@fliprobo.com\n",
      "github.com\n",
      "Hello Data Science World\n",
      "DataScientist\n"
     ]
    }
   ],
   "source": [
    "import re\n",
    "def remove_parenthesis(text):\n",
    "  for item in text:\n",
    "    re_parenthesis=re.compile(r\" ?\\(| ?\\)\")\n",
    "    print(re_parenthesis.sub(\"\", item))\n",
    "    \n",
    "items = [\"example (.com)\", \"hr@fliprobo (.com)\", \"github (.com)\", \"Hello ( Data Science World)\",\"Data (Scientist)\"]\n",
    "remove_parenthesis(items)"
   ]
  },
  {
   "cell_type": "code",
   "execution_count": 6,
   "id": "6009d5b5",
   "metadata": {},
   "outputs": [
    {
     "name": "stdout",
     "output_type": "stream",
     "text": [
      "example \n",
      "hr@fliprobo \n",
      "github \n",
      "Hello \n",
      "Data \n"
     ]
    }
   ],
   "source": [
    "import re\n",
    "items = [\"example (.com)\", \"hr@fliprobo (.com)\", \"github (.com)\", \"Hello (Data Science World)\", \"Data (Scientist)\"]\n",
    "for item in items:\n",
    "    print(re.sub(r'\\([^)]*\\)', '', item))"
   ]
  },
  {
   "cell_type": "code",
   "execution_count": 7,
   "id": "0dffe4db",
   "metadata": {},
   "outputs": [
    {
     "name": "stdout",
     "output_type": "stream",
     "text": [
      "['Importance', 'Of', 'Regular', 'Expressions', 'In', 'Python']\n"
     ]
    }
   ],
   "source": [
    "import re\n",
    "text= \"ImportanceOfRegularExpressionsInPython\"\n",
    "upper_case = [s for s in re.split(\"([A-Z][^A-Z]*)\", text) if s]\n",
    "print(upper_case)"
   ]
  },
  {
   "cell_type": "code",
   "execution_count": 8,
   "id": "56faeaa8",
   "metadata": {},
   "outputs": [
    {
     "name": "stdout",
     "output_type": "stream",
     "text": [
      "RegularExpression 1IsAn 2ImportantTopic 3InPython\n"
     ]
    }
   ],
   "source": [
    "import re\n",
    "def numbers_spaces(str1):\n",
    " return re.sub(r\"(\\w)([0-9])\", r\"\\1 \\2\", str1)\n",
    "print(numbers_spaces(\"RegularExpression1IsAn2ImportantTopic3InPython\"))"
   ]
  },
  {
   "cell_type": "code",
   "execution_count": 9,
   "id": "7461fdb3",
   "metadata": {},
   "outputs": [
    {
     "name": "stdout",
     "output_type": "stream",
     "text": [
      "Regular Expression 1 Is An 2 Important Topic 3 In Python\n"
     ]
    }
   ],
   "source": [
    "import re\n",
    "def Insert_space(string):\n",
    "    words = re.findall(r\"[0-9]|[A-Z][a-z]*\", string)\n",
    "    print(' '.join(words))\n",
    "Insert_space(\"RegularExpression1IsAn2ImportantTopic3InPython\")"
   ]
  },
  {
   "cell_type": "code",
   "execution_count": 10,
   "id": "fd3c80d7",
   "metadata": {},
   "outputs": [
    {
     "name": "stdout",
     "output_type": "stream",
     "text": [
      "['xyz@domain.com', 'xyz.abc@sdomain.domain.com', 'hr@fliprobo.com']\n"
     ]
    }
   ],
   "source": [
    "import re\n",
    "text = \"\"\" Hello my name is Data Science and my email address is xyz@domain.com and alternate email address is xyz.abc@sdomain.domain.com.\n",
    "Please contact us at hr@fliprobo.com for further information.\"\"\"\n",
    "\n",
    "\n",
    "emails = re.findall(r\"[a-z0-9\\.\\-+_]+@[a-z0-9\\.\\-+_]+\\.[a-z]+\", text)\n",
    "print (emails)"
   ]
  },
  {
   "cell_type": "code",
   "execution_count": 11,
   "id": "bf88a1ff",
   "metadata": {},
   "outputs": [
    {
     "name": "stdout",
     "output_type": "stream",
     "text": [
      "Not matched!\n",
      "['Assignment_', 'Project_1']\n",
      "Found a match!\n",
      "\n"
     ]
    }
   ],
   "source": [
    "import re\n",
    "def text_match(text):\n",
    "         patterns = '[a-zA-Z]+[0-9_]+'\n",
    "         x=re.findall(patterns, text)\n",
    "         if x:\n",
    "                 print(x)\n",
    "                 return 'Found a match!\\n'\n",
    "         else:\n",
    "                 return('Not matched!')\n",
    "print(text_match(\"hello world\"))\n",
    "print(text_match(\"Assignment_Project_1\"))"
   ]
  },
  {
   "cell_type": "code",
   "execution_count": 12,
   "id": "1701d1a0",
   "metadata": {},
   "outputs": [
    {
     "name": "stdout",
     "output_type": "stream",
     "text": [
      "False\n",
      "True\n"
     ]
    }
   ],
   "source": [
    "import re\n",
    "def match_num(string):\n",
    "    text = re.compile(r\"^5\")\n",
    "    if text.match(string):\n",
    "        return True\n",
    "    else:\n",
    "        return False\n",
    "print(match_num('3-hello'))\n",
    "print(match_num('5-world'))"
   ]
  },
  {
   "cell_type": "code",
   "execution_count": 13,
   "id": "ee13633b",
   "metadata": {},
   "outputs": [
    {
     "name": "stdout",
     "output_type": "stream",
     "text": [
      "216.8.94.196\n"
     ]
    }
   ],
   "source": [
    "import re\n",
    "ip = \"216.0008.0094.0196\"\n",
    "string = re.sub('\\.[0]*', '.', ip)\n",
    "print(string)"
   ]
  },
  {
   "cell_type": "code",
   "execution_count": 14,
   "id": "6085a0b1",
   "metadata": {},
   "outputs": [
    {
     "name": "stdout",
     "output_type": "stream",
     "text": [
      "Output: <re.Match object; span=(3, 19), match='August 15th 1947'>\n",
      "Output: None\n"
     ]
    }
   ],
   "source": [
    "import re\n",
    "with open(\"C:/Users/HI/Downloads/month.txt\") as file:\n",
    "        for line in file:\n",
    "            pattern = \"([a-zA-Z]+) (\\d+[a-z]+) (\\d+)\"\n",
    "            matched = re.search(pattern, line)\n",
    "            print (\"Output: %s\" % (matched))"
   ]
  },
  {
   "cell_type": "code",
   "execution_count": 15,
   "id": "592089e7",
   "metadata": {},
   "outputs": [
    {
     "name": "stdout",
     "output_type": "stream",
     "text": [
      "Searching for \"fox\" in \"The quick brown fox jumps over the lazy dog.\" ->\n",
      "Matched!\n",
      "\n",
      "Searching for \"dog\" in \"The quick brown fox jumps over the lazy dog.\" ->\n",
      "Matched!\n",
      "\n",
      "Searching for \"horse\" in \"The quick brown fox jumps over the lazy dog.\" ->\n",
      "Not Matched!\n"
     ]
    }
   ],
   "source": [
    "import re\n",
    "patterns = [ 'fox', 'dog', 'horse' ]\n",
    "text = 'The quick brown fox jumps over the lazy dog.'\n",
    "for pattern in patterns:\n",
    "    print('Searching for \"%s\" in \"%s\" ->' % (pattern, text))\n",
    "    if re.search(pattern, text):\n",
    "        print('Matched!\\n')\n",
    "    else:\n",
    "        print('Not Matched!')"
   ]
  },
  {
   "cell_type": "code",
   "execution_count": 16,
   "id": "45516342",
   "metadata": {},
   "outputs": [
    {
     "name": "stdout",
     "output_type": "stream",
     "text": [
      "Found \"fox\" in \"The quick brown fox jumps over the lazy dog.\" from 16 to 19 \n"
     ]
    }
   ],
   "source": [
    "import re\n",
    "pattern = 'fox'\n",
    "text = 'The quick brown fox jumps over the lazy dog.'\n",
    "match = re.search(pattern, text)\n",
    "s = match.start()\n",
    "e = match.end()\n",
    "print('Found \"%s\" in \"%s\" from %d to %d ' % (match.re.pattern, match.string, s, e))"
   ]
  },
  {
   "cell_type": "code",
   "execution_count": 17,
   "id": "5eea1583",
   "metadata": {},
   "outputs": [
    {
     "name": "stdout",
     "output_type": "stream",
     "text": [
      "Found \"exercises\"\n",
      "Found \"exercises\"\n",
      "Found \"exercises\"\n"
     ]
    }
   ],
   "source": [
    "import re\n",
    "text = 'Python exercises, PHP exercises, C# exercises'\n",
    "pattern = 'exercises'\n",
    "for match in re.findall(pattern, text):\n",
    "    print('Found \"%s\"' % match)"
   ]
  },
  {
   "cell_type": "code",
   "execution_count": 18,
   "id": "207e7d69",
   "metadata": {},
   "outputs": [
    {
     "name": "stdout",
     "output_type": "stream",
     "text": [
      "Found \"exercises\" at 7:16\n",
      "Found \"exercises\" at 22:31\n",
      "Found \"exercises\" at 36:45\n"
     ]
    }
   ],
   "source": [
    "import re\n",
    "text = 'Python exercises, PHP exercises, C# exercises'\n",
    "pattern = 'exercises'\n",
    "for match in re.finditer(pattern, text):\n",
    "    s = match.start()\n",
    "    e = match.end()\n",
    "    print('Found \"%s\" at %d:%d' % (text[s:e], s, e))"
   ]
  },
  {
   "cell_type": "code",
   "execution_count": 19,
   "id": "e684fb14",
   "metadata": {},
   "outputs": [
    {
     "name": "stdout",
     "output_type": "stream",
     "text": [
      "Original date in YYY-MM-DD Format:  2023-08-27\n",
      "New date in DD-MM-YYYY Format:  27-08-2023\n"
     ]
    }
   ],
   "source": [
    "import re\n",
    "def change_date_format(dt):\n",
    "        return re.sub(r'(\\d{4})-(\\d{1,2})-(\\d{1,2})', '\\\\3-\\\\2-\\\\1', dt)\n",
    "dt1 = \"2023-08-27\"\n",
    "print(\"Original date in YYY-MM-DD Format: \",dt1)\n",
    "print(\"New date in DD-MM-YYYY Format: \",change_date_format(dt1))"
   ]
  },
  {
   "cell_type": "code",
   "execution_count": 20,
   "id": "7931927f",
   "metadata": {},
   "outputs": [
    {
     "name": "stdout",
     "output_type": "stream",
     "text": [
      "['01.12', '145.8', '3.01', '27.25', '0.25']\n"
     ]
    }
   ],
   "source": [
    "import re\n",
    "def decimal_with_precision(string):\n",
    "    deci_num = re.compile(r\"\\b([0-9]+\\.[0-9]{1,2})\\b\")\n",
    "    result = deci_num.findall(text)\n",
    "    print(result)\n",
    "text= \"01.12 0132.123 2.31875 145.8 3.01 27.25 0.25\"\n",
    "decimal_with_precision(text)"
   ]
  },
  {
   "cell_type": "code",
   "execution_count": 21,
   "id": "7e859292",
   "metadata": {},
   "outputs": [
    {
     "name": "stdout",
     "output_type": "stream",
     "text": [
      "443\n",
      "Index position: 31\n"
     ]
    }
   ],
   "source": [
    "import re\n",
    "text = \"My marks in each semester are: 443\"\n",
    "for m in re.finditer(\"\\d+\", text):\n",
    "    print(m.group(0))\n",
    "    print(\"Index position:\", m.start())"
   ]
  },
  {
   "cell_type": "code",
   "execution_count": 22,
   "id": "3689be78",
   "metadata": {},
   "outputs": [
    {
     "name": "stdout",
     "output_type": "stream",
     "text": [
      "['947', '896', '926', '524', '734', '950', '642']\n",
      "Maximum Marks is  950\n"
     ]
    }
   ],
   "source": [
    "import re\n",
    "def extractMax(input):\n",
    "    numbers = re.findall('\\d+',input)\n",
    "    print(numbers)\n",
    "    numbers = map(int,numbers) \n",
    "    print (\"Maximum Marks is \",max(numbers))\n",
    "input = 'My marks in each semester are: 947, 896, 926, 524, 734, 950, 642'\n",
    "extractMax(input)"
   ]
  },
  {
   "cell_type": "code",
   "execution_count": 23,
   "id": "8068da23",
   "metadata": {},
   "outputs": [
    {
     "name": "stdout",
     "output_type": "stream",
     "text": [
      "Regular Expression Is An Important Topic In Python\n"
     ]
    }
   ],
   "source": [
    "import re\n",
    "def putSpace(input):\n",
    "    words = re.findall('[A-Z][a-z]*', input)\n",
    "    print(' '.join(words))\n",
    "input = 'RegularExpressionIsAnImportantTopicInPython'\n",
    "putSpace(input)"
   ]
  },
  {
   "cell_type": "code",
   "execution_count": 24,
   "id": "97e4ccb2",
   "metadata": {},
   "outputs": [
    {
     "name": "stdout",
     "output_type": "stream",
     "text": [
      "Yes\n",
      "No\n",
      "No\n"
     ]
    }
   ],
   "source": [
    "import re\n",
    "def match(text):\n",
    "    pattern = '[A-Z][a-z]*$'\n",
    "    if re.search(pattern, text):\n",
    "       return('Yes')\n",
    "    else:\n",
    "       return('No')\n",
    "print(match(\"Hello World\"))\n",
    "print(match(\"hello\"))\n",
    "print(match(\"Hello world\"))"
   ]
  },
  {
   "cell_type": "code",
   "execution_count": 25,
   "id": "e7aa3e10",
   "metadata": {},
   "outputs": [
    {
     "name": "stdout",
     "output_type": "stream",
     "text": [
      "Hello hello world\n"
     ]
    }
   ],
   "source": [
    "import re\n",
    "def removeDuplicateWords(input):\n",
    "    regex = r'\\b(\\w+)(?:\\W+\\1\\b)+'\n",
    "    return re.sub(regex, r'\\1', input)\n",
    "\n",
    "str = \"Hello hello world world\"\n",
    "print(removeDuplicateWords(str))"
   ]
  },
  {
   "cell_type": "code",
   "execution_count": 26,
   "id": "3114bbf3",
   "metadata": {},
   "outputs": [
    {
     "name": "stdout",
     "output_type": "stream",
     "text": [
      "String is not ending with an alphanumeric character. \n",
      "\n",
      "String is ending with an alphanumeric character. \n",
      "\n",
      "String is not ending with an alphanumeric character. \n",
      "\n"
     ]
    }
   ],
   "source": [
    "import re\n",
    "regex = '[a-zA-z0-9]$'\n",
    "\n",
    "def check_alpha_numeric(string):\n",
    "    if(re.search(regex, string)):\n",
    "       print(\"String is ending with an alphanumeric character. \\n\")\n",
    "    else:\n",
    "       print(\"String is not ending with an alphanumeric character. \\n\")\n",
    "check_alpha_numeric(\"python@\")\n",
    "check_alpha_numeric(\"python123\")\n",
    "check_alpha_numeric(\"python.\")"
   ]
  },
  {
   "cell_type": "code",
   "execution_count": 27,
   "id": "1f0b7fa8",
   "metadata": {},
   "outputs": [
    {
     "name": "stdout",
     "output_type": "stream",
     "text": [
      "Tweet:\n",
      " RT @kapil_kausik: #Doltiwal I mean #xyzabc is \"hurt\" by #Demonetization as the same has rendered USELESS <ed><U+00A0><U+00BD><ed><U+00B1><U+0089> \"acquired funds\" No wo\n",
      "\n",
      " Hashtag:\n",
      " ['#Doltiwal', '#xyzabc', '#Demonetization']\n"
     ]
    }
   ],
   "source": [
    "import re\n",
    "text = \"\"\"RT @kapil_kausik: #Doltiwal I mean #xyzabc is \"hurt\" by #Demonetization as the same has rendered USELESS <ed><U+00A0><U+00BD><ed><U+00B1><U+0089> \"acquired funds\" No wo\"\"\"\n",
    "hashtags = re.findall(r\"#\\w+\", text)\n",
    "print(\"Tweet:\\n\", text)\n",
    "print(\"\\n Hashtag:\\n\", hashtags)"
   ]
  },
  {
   "cell_type": "code",
   "execution_count": 28,
   "id": "9b040a16",
   "metadata": {},
   "outputs": [
    {
     "name": "stdout",
     "output_type": "stream",
     "text": [
      "Text before:\n",
      " @Jags123456 Bharat band on 28??<ed><U+00A0><U+00BD><ed><U+00B8><U+0082>Those who  are protesting #demonetization  are all different party leaders\n",
      "\n",
      " Text after:\n",
      " @Jags123456 Bharat band on 28??<ed><ed>Those who  are protesting #demonetization  are all different party leaders\n"
     ]
    }
   ],
   "source": [
    "import re\n",
    "text= \"@Jags123456 Bharat band on 28??<ed><U+00A0><U+00BD><ed><U+00B8><U+0082>Those who  are protesting #demonetization  are all different party leaders\"\n",
    "clean_text = re.sub(r\"<U\\+[A-Z0-9]+>\", \"\", text)\n",
    "print(\"Text before:\\n\", text)\n",
    "print(\"\\n Text after:\\n\", clean_text)"
   ]
  },
  {
   "cell_type": "code",
   "execution_count": 29,
   "id": "8e65d057",
   "metadata": {},
   "outputs": [
    {
     "name": "stdout",
     "output_type": "stream",
     "text": [
      "['12-09-1992', '15-12-1999']\n",
      "[]\n"
     ]
    }
   ],
   "source": [
    "import re\n",
    "with open(\"C:/Users/HI/Downloads/date.txt\") as file:\n",
    "        for line in file:\n",
    "            emails = re.findall(r\"\\d{2}-\\d{2}-\\d{4}\", line)\n",
    "            print(emails)"
   ]
  },
  {
   "cell_type": "code",
   "execution_count": 30,
   "id": "1597e07a",
   "metadata": {},
   "outputs": [
    {
     "name": "stdout",
     "output_type": "stream",
     "text": [
      " following example creates  ArrayList  a capacity   elements. 4 elements   added   ArrayList   ArrayList  trimmed accordingly.\n"
     ]
    }
   ],
   "source": [
    "import re\n",
    "def remove_words(str1):\n",
    "    shortword = re.compile(r'\\b\\w{2,4}\\b')\n",
    "    print(shortword.sub('', text))\n",
    "text = \"The following example creates an ArrayList with a capacity of 50 elements. 4 elements are then added to the ArrayList and the ArrayList is trimmed accordingly.\"\n",
    "remove_words(text)"
   ]
  },
  {
   "cell_type": "code",
   "execution_count": null,
   "id": "9c07d835",
   "metadata": {},
   "outputs": [],
   "source": []
  }
 ],
 "metadata": {
  "kernelspec": {
   "display_name": "Python 3 (ipykernel)",
   "language": "python",
   "name": "python3"
  },
  "language_info": {
   "codemirror_mode": {
    "name": "ipython",
    "version": 3
   },
   "file_extension": ".py",
   "mimetype": "text/x-python",
   "name": "python",
   "nbconvert_exporter": "python",
   "pygments_lexer": "ipython3",
   "version": "3.11.3"
  }
 },
 "nbformat": 4,
 "nbformat_minor": 5
}
